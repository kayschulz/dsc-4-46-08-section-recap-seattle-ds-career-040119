{
 "cells": [
  {
   "cell_type": "markdown",
   "metadata": {},
   "source": [
    "# Section Recap"
   ]
  },
  {
   "cell_type": "markdown",
   "metadata": {},
   "source": [
    "## Introduction\n",
    "\n",
    "This short lesson summarizes key takeaways from section 44."
   ]
  },
  {
   "cell_type": "markdown",
   "metadata": {},
   "source": [
    "## Objectives\n",
    "You will be able to:\n",
    "* Understand and explain what was covered in this section\n",
    "* Understand and explain why this section will help you become a data scientist"
   ]
  },
  {
   "cell_type": "markdown",
   "metadata": {},
   "source": [
    "## Key Takeaways\n",
    "\n",
    "The key takeaways from this section include:\n",
    "\n",
    "* A Sequence Model is a general term for a special class of Deep Neural Networks that work with a time series of data as an input\n",
    "* In the deep learning context, sequence models are also referred to as \"Recurrent Neural Networks\" (RNNs)\n",
    "* Sequence Models are often used for text classification, sequence generation, etc.\n",
    "* A basic Recurrent Neural Network is a neural network that passes it's output from a given example back into itself as input for the next example (which feels a little bit like the time series models we've seen)\n",
    "* RNN architectures use a special type of backpropagation referred to as \"backpropagation through time\"\n",
    "* To special types of RNNs are referred to as \"Long Short Term Memory\" (LSTM) and \"Gated Recurrent Unit\" (GRU) models.\n",
    "* "
   ]
  }
 ],
 "metadata": {
  "kernelspec": {
   "display_name": "Python 3",
   "language": "python",
   "name": "python3"
  },
  "language_info": {
   "codemirror_mode": {
    "name": "ipython",
    "version": 3
   },
   "file_extension": ".py",
   "mimetype": "text/x-python",
   "name": "python",
   "nbconvert_exporter": "python",
   "pygments_lexer": "ipython3",
   "version": "3.6.6"
  }
 },
 "nbformat": 4,
 "nbformat_minor": 2
}
